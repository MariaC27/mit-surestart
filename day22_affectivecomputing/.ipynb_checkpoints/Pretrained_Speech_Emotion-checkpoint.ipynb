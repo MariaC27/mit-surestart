{
 "cells": [
  {
   "cell_type": "code",
   "execution_count": 1,
   "id": "372280a0",
   "metadata": {},
   "outputs": [
    {
     "name": "stdout",
     "output_type": "stream",
     "text": [
      "Python 3.8.6\n"
     ]
    }
   ],
   "source": [
    "# Check your Python version\n",
    "!python --version"
   ]
  },
  {
   "cell_type": "code",
   "execution_count": 5,
   "id": "a0e8baa5",
   "metadata": {},
   "outputs": [
    {
     "name": "stdout",
     "output_type": "stream",
     "text": [
      "* recording\n",
      "* done recording\n"
     ]
    }
   ],
   "source": [
    "\"\"\"\n",
    "Code borrowed from: \n",
    "\"https://github.com/MITESHPUTHRANNEU/Speech-Emotion-Analyzer\"\n",
    "\"https://github.com/MITESHPUTHRANNEU/Speech-Emotion-Analyzer/blob/master/saved_models/Emotion_Voice_Detection_Model.h5\"\n",
    "\"https://github.com/MITESHPUTHRANNEU/Speech-Emotion-Analyzer/blob/master/AudioRecorder.ipynb\"\n",
    "\"\"\"\n",
    "\n",
    "# Record and save a 4s recording as a WAV file named \"output10\", in the same location as this notebook file\n",
    "\n",
    "import pyaudio\n",
    "import wave\n",
    "\n",
    "CHUNK = 1024 \n",
    "FORMAT = pyaudio.paInt16 #paInt8\n",
    "CHANNELS = 2 \n",
    "RATE = 44100 #sample rate\n",
    "RECORD_SECONDS = 4\n",
    "WAVE_OUTPUT_FILENAME = \"output10.wav\"\n",
    "\n",
    "p = pyaudio.PyAudio()\n",
    "\n",
    "stream = p.open(format=FORMAT,\n",
    "                channels=CHANNELS,\n",
    "                rate=RATE,\n",
    "                input=True,\n",
    "                frames_per_buffer=CHUNK) #buffer\n",
    "\n",
    "print(\"* recording\")\n",
    "\n",
    "frames = []\n",
    "\n",
    "for i in range(0, int(RATE / CHUNK * RECORD_SECONDS)):\n",
    "    data = stream.read(CHUNK)\n",
    "    frames.append(data) # 2 bytes(16 bits) per channel\n",
    "\n",
    "print(\"* done recording\")\n",
    "\n",
    "stream.stop_stream()\n",
    "stream.close()\n",
    "p.terminate()\n",
    "\n",
    "wf = wave.open(WAVE_OUTPUT_FILENAME, 'wb')\n",
    "wf.setnchannels(CHANNELS)\n",
    "wf.setsampwidth(p.get_sample_size(FORMAT))\n",
    "wf.setframerate(RATE)\n",
    "wf.writeframes(b''.join(frames))\n",
    "wf.close()"
   ]
  },
  {
   "cell_type": "code",
   "execution_count": 6,
   "id": "c4bcb2ce",
   "metadata": {},
   "outputs": [
    {
     "data": {
      "text/plain": [
       "<matplotlib.collections.PolyCollection at 0x1cedba89c70>"
      ]
     },
     "execution_count": 6,
     "metadata": {},
     "output_type": "execute_result"
    },
    {
     "data": {
      "image/png": "[encoded data removed]",
      "text/plain": [
       "<Figure size 1080x360 with 1 Axes>"
      ]
     },
     "metadata": {
      "needs_background": "light"
     },
     "output_type": "display_data"
    }
   ],
   "source": [
    "# Import our recording (\"output10.wav\") and plot the waveform\n",
    "\n",
    "import librosa\n",
    "from librosa.display import waveplot\n",
    "import matplotlib.pyplot as plt\n",
    "\n",
    "data, sampling_rate = librosa.load('output10.wav')\n",
    "\n",
    "\n",
    "import os\n",
    "import pandas as pd\n",
    "import librosa\n",
    "import glob \n",
    "\n",
    "plt.figure(figsize=(15, 5))\n",
    "waveplot(data, sr=sampling_rate)"
   ]
  },
  {
   "cell_type": "code",
   "execution_count": 7,
   "id": "43d438d5",
   "metadata": {},
   "outputs": [],
   "source": [
    "# Extract audio features (MFCCs) into a Numpy array\n",
    "import numpy as np\n",
    "\n",
    "#livedf= pd.DataFrame(columns=['feature'])\n",
    "X, sample_rate = librosa.load('output10.wav', res_type='kaiser_fast',duration=2.5,sr=22050*2,offset=0.5)\n",
    "sample_rate = np.array(sample_rate)\n",
    "mfccs = np.mean(librosa.feature.mfcc(y=X, sr=sample_rate, n_mfcc=13),axis=0)\n",
    "featurelive = mfccs\n",
    "livedf2 = featurelive"
   ]
  },
  {
   "cell_type": "code",
   "execution_count": 8,
   "id": "c904c4a5",
   "metadata": {},
   "outputs": [
    {
     "data": {
      "text/html": [
       "<div>\n",
       "<style scoped>\n",
       "    .dataframe tbody tr th:only-of-type {\n",
       "        vertical-align: middle;\n",
       "    }\n",
       "\n",
       "    .dataframe tbody tr th {\n",
       "        vertical-align: top;\n",
       "    }\n",
       "\n",
       "    .dataframe thead th {\n",
       "        text-align: right;\n",
       "    }\n",
       "</style>\n",
       "<table border=\"1\" class=\"dataframe\">\n",
       "  <thead>\n",
       "    <tr style=\"text-align: right;\">\n",
       "      <th></th>\n",
       "      <th>0</th>\n",
       "    </tr>\n",
       "  </thead>\n",
       "  <tbody>\n",
       "    <tr>\n",
       "      <th>0</th>\n",
       "      <td>-20.512604</td>\n",
       "    </tr>\n",
       "    <tr>\n",
       "      <th>1</th>\n",
       "      <td>-22.262745</td>\n",
       "    </tr>\n",
       "    <tr>\n",
       "      <th>2</th>\n",
       "      <td>-26.874641</td>\n",
       "    </tr>\n",
       "    <tr>\n",
       "      <th>3</th>\n",
       "      <td>-29.787182</td>\n",
       "    </tr>\n",
       "    <tr>\n",
       "      <th>4</th>\n",
       "      <td>-26.710323</td>\n",
       "    </tr>\n",
       "    <tr>\n",
       "      <th>...</th>\n",
       "      <td>...</td>\n",
       "    </tr>\n",
       "    <tr>\n",
       "      <th>211</th>\n",
       "      <td>-32.706520</td>\n",
       "    </tr>\n",
       "    <tr>\n",
       "      <th>212</th>\n",
       "      <td>-35.715107</td>\n",
       "    </tr>\n",
       "    <tr>\n",
       "      <th>213</th>\n",
       "      <td>-37.386723</td>\n",
       "    </tr>\n",
       "    <tr>\n",
       "      <th>214</th>\n",
       "      <td>-38.457150</td>\n",
       "    </tr>\n",
       "    <tr>\n",
       "      <th>215</th>\n",
       "      <td>-38.875118</td>\n",
       "    </tr>\n",
       "  </tbody>\n",
       "</table>\n",
       "<p>216 rows × 1 columns</p>\n",
       "</div>"
      ],
      "text/plain": [
       "             0\n",
       "0   -20.512604\n",
       "1   -22.262745\n",
       "2   -26.874641\n",
       "3   -29.787182\n",
       "4   -26.710323\n",
       "..         ...\n",
       "211 -32.706520\n",
       "212 -35.715107\n",
       "213 -37.386723\n",
       "214 -38.457150\n",
       "215 -38.875118\n",
       "\n",
       "[216 rows x 1 columns]"
      ]
     },
     "execution_count": 8,
     "metadata": {},
     "output_type": "execute_result"
    }
   ],
   "source": [
    "# Transfer data from Numpy array to Pandas dataframe\n",
    "livedf2= pd.DataFrame(data=livedf2)\n",
    "livedf2"
   ]
  },
  {
   "cell_type": "code",
   "execution_count": 9,
   "id": "5aa1522d",
   "metadata": {},
   "outputs": [],
   "source": [
    "# Transpose dataframe so that rows become columns and columns become rows\n",
    "livedf2 = livedf2.stack().to_frame().T"
   ]
  },
  {
   "cell_type": "code",
   "execution_count": 10,
   "id": "7e28b39c",
   "metadata": {},
   "outputs": [
    {
     "data": {
      "text/html": [
       "<div>\n",
       "<style scoped>\n",
       "    .dataframe tbody tr th:only-of-type {\n",
       "        vertical-align: middle;\n",
       "    }\n",
       "\n",
       "    .dataframe tbody tr th {\n",
       "        vertical-align: top;\n",
       "    }\n",
       "\n",
       "    .dataframe thead tr th {\n",
       "        text-align: left;\n",
       "    }\n",
       "</style>\n",
       "<table border=\"1\" class=\"dataframe\">\n",
       "  <thead>\n",
       "    <tr>\n",
       "      <th></th>\n",
       "      <th>0</th>\n",
       "      <th>1</th>\n",
       "      <th>2</th>\n",
       "      <th>3</th>\n",
       "      <th>4</th>\n",
       "      <th>5</th>\n",
       "      <th>6</th>\n",
       "      <th>7</th>\n",
       "      <th>8</th>\n",
       "      <th>9</th>\n",
       "      <th>...</th>\n",
       "      <th>206</th>\n",
       "      <th>207</th>\n",
       "      <th>208</th>\n",
       "      <th>209</th>\n",
       "      <th>210</th>\n",
       "      <th>211</th>\n",
       "      <th>212</th>\n",
       "      <th>213</th>\n",
       "      <th>214</th>\n",
       "      <th>215</th>\n",
       "    </tr>\n",
       "    <tr>\n",
       "      <th></th>\n",
       "      <th>0</th>\n",
       "      <th>0</th>\n",
       "      <th>0</th>\n",
       "      <th>0</th>\n",
       "      <th>0</th>\n",
       "      <th>0</th>\n",
       "      <th>0</th>\n",
       "      <th>0</th>\n",
       "      <th>0</th>\n",
       "      <th>0</th>\n",
       "      <th>...</th>\n",
       "      <th>0</th>\n",
       "      <th>0</th>\n",
       "      <th>0</th>\n",
       "      <th>0</th>\n",
       "      <th>0</th>\n",
       "      <th>0</th>\n",
       "      <th>0</th>\n",
       "      <th>0</th>\n",
       "      <th>0</th>\n",
       "      <th>0</th>\n",
       "    </tr>\n",
       "  </thead>\n",
       "  <tbody>\n",
       "    <tr>\n",
       "      <th>0</th>\n",
       "      <td>-20.512604</td>\n",
       "      <td>-22.262745</td>\n",
       "      <td>-26.874641</td>\n",
       "      <td>-29.787182</td>\n",
       "      <td>-26.710323</td>\n",
       "      <td>-26.316856</td>\n",
       "      <td>-26.920284</td>\n",
       "      <td>-26.855793</td>\n",
       "      <td>-27.576633</td>\n",
       "      <td>-26.878</td>\n",
       "      <td>...</td>\n",
       "      <td>-31.374676</td>\n",
       "      <td>-34.202213</td>\n",
       "      <td>-31.369076</td>\n",
       "      <td>-31.415691</td>\n",
       "      <td>-33.539375</td>\n",
       "      <td>-32.70652</td>\n",
       "      <td>-35.715107</td>\n",
       "      <td>-37.386723</td>\n",
       "      <td>-38.45715</td>\n",
       "      <td>-38.875118</td>\n",
       "    </tr>\n",
       "  </tbody>\n",
       "</table>\n",
       "<p>1 rows × 216 columns</p>\n",
       "</div>"
      ],
      "text/plain": [
       "         0          1          2          3          4          5    \\\n",
       "           0          0          0          0          0          0   \n",
       "0 -20.512604 -22.262745 -26.874641 -29.787182 -26.710323 -26.316856   \n",
       "\n",
       "         6          7          8       9    ...        206        207  \\\n",
       "           0          0          0       0  ...          0          0   \n",
       "0 -26.920284 -26.855793 -27.576633 -26.878  ... -31.374676 -34.202213   \n",
       "\n",
       "         208        209        210       211        212        213       214  \\\n",
       "           0          0          0         0          0          0         0   \n",
       "0 -31.369076 -31.415691 -33.539375 -32.70652 -35.715107 -37.386723 -38.45715   \n",
       "\n",
       "         215  \n",
       "           0  \n",
       "0 -38.875118  \n",
       "\n",
       "[1 rows x 216 columns]"
      ]
     },
     "execution_count": 10,
     "metadata": {},
     "output_type": "execute_result"
    }
   ],
   "source": [
    "livedf2"
   ]
  },
  {
   "cell_type": "code",
   "execution_count": 11,
   "id": "6a349d27",
   "metadata": {},
   "outputs": [
    {
     "data": {
      "text/plain": [
       "array([[[-20.512604],\n",
       "        [-22.262745],\n",
       "        [-26.874641],\n",
       "        [-29.787182],\n",
       "        [-26.710323],\n",
       "        [-26.316856],\n",
       "        [-26.920284],\n",
       "        [-26.855793],\n",
       "        [-27.576633],\n",
       "        [-26.878   ],\n",
       "        [-26.488758],\n",
       "        [-28.84456 ],\n",
       "        [-27.753654],\n",
       "        [-27.792656],\n",
       "        [-29.259031],\n",
       "        [-27.772255],\n",
       "        [-27.968615],\n",
       "        [-28.35317 ],\n",
       "        [-26.938969],\n",
       "        [-28.772339],\n",
       "        [-28.179943],\n",
       "        [-29.091728],\n",
       "        [-30.166077],\n",
       "        [-26.674442],\n",
       "        [-26.443779],\n",
       "        [-25.985056],\n",
       "        [-28.057228],\n",
       "        [-29.992704],\n",
       "        [-27.591768],\n",
       "        [-26.491734],\n",
       "        [-25.410671],\n",
       "        [-26.663927],\n",
       "        [-26.385347],\n",
       "        [-26.94257 ],\n",
       "        [-25.948666],\n",
       "        [-25.575829],\n",
       "        [-25.386812],\n",
       "        [-26.710255],\n",
       "        [-29.696642],\n",
       "        [-27.66405 ],\n",
       "        [-27.85979 ],\n",
       "        [-28.312613],\n",
       "        [-28.137333],\n",
       "        [-28.287106],\n",
       "        [-27.666077],\n",
       "        [-27.713533],\n",
       "        [-26.973196],\n",
       "        [-26.861454],\n",
       "        [-28.629921],\n",
       "        [-30.020414],\n",
       "        [-29.671572],\n",
       "        [-29.726694],\n",
       "        [-28.895195],\n",
       "        [-29.327393],\n",
       "        [-29.061312],\n",
       "        [-29.476528],\n",
       "        [-29.839334],\n",
       "        [-29.24285 ],\n",
       "        [-30.005236],\n",
       "        [-32.40822 ],\n",
       "        [-36.501583],\n",
       "        [-37.019344],\n",
       "        [-36.997044],\n",
       "        [-36.51086 ],\n",
       "        [-37.795662],\n",
       "        [-38.5521  ],\n",
       "        [-38.858887],\n",
       "        [-39.57285 ],\n",
       "        [-40.18057 ],\n",
       "        [-41.450466],\n",
       "        [-42.02224 ],\n",
       "        [-42.9142  ],\n",
       "        [-44.087578],\n",
       "        [-43.501324],\n",
       "        [-43.341446],\n",
       "        [-42.767918],\n",
       "        [-43.801777],\n",
       "        [-44.639187],\n",
       "        [-45.954704],\n",
       "        [-46.616272],\n",
       "        [-44.221622],\n",
       "        [-44.292374],\n",
       "        [-45.241447],\n",
       "        [-46.124374],\n",
       "        [-46.089317],\n",
       "        [-44.41765 ],\n",
       "        [-43.340675],\n",
       "        [-45.541218],\n",
       "        [-43.622086],\n",
       "        [-42.75779 ],\n",
       "        [-39.539696],\n",
       "        [-37.476994],\n",
       "        [-38.760635],\n",
       "        [-38.708385],\n",
       "        [-38.3056  ],\n",
       "        [-38.439487],\n",
       "        [-37.893284],\n",
       "        [-32.835625],\n",
       "        [-29.805798],\n",
       "        [-26.855244],\n",
       "        [-26.620249],\n",
       "        [-27.540993],\n",
       "        [-27.082005],\n",
       "        [-26.56342 ],\n",
       "        [-27.50787 ],\n",
       "        [-26.256012],\n",
       "        [-27.273222],\n",
       "        [-28.962664],\n",
       "        [-28.997496],\n",
       "        [-26.946547],\n",
       "        [-26.361055],\n",
       "        [-28.72972 ],\n",
       "        [-28.588427],\n",
       "        [-27.4146  ],\n",
       "        [-28.154774],\n",
       "        [-28.74531 ],\n",
       "        [-30.619993],\n",
       "        [-31.678642],\n",
       "        [-33.076653],\n",
       "        [-33.729866],\n",
       "        [-33.78271 ],\n",
       "        [-34.056187],\n",
       "        [-32.237118],\n",
       "        [-33.66971 ],\n",
       "        [-35.345833],\n",
       "        [-36.417717],\n",
       "        [-37.395493],\n",
       "        [-37.059658],\n",
       "        [-35.793537],\n",
       "        [-34.228687],\n",
       "        [-34.084698],\n",
       "        [-33.697365],\n",
       "        [-35.1425  ],\n",
       "        [-35.291714],\n",
       "        [-34.291927],\n",
       "        [-31.575064],\n",
       "        [-32.582535],\n",
       "        [-34.33493 ],\n",
       "        [-35.532864],\n",
       "        [-34.951176],\n",
       "        [-35.625698],\n",
       "        [-36.013737],\n",
       "        [-38.209442],\n",
       "        [-38.544895],\n",
       "        [-38.583805],\n",
       "        [-38.704624],\n",
       "        [-37.956566],\n",
       "        [-37.102055],\n",
       "        [-37.077774],\n",
       "        [-39.476456],\n",
       "        [-41.791485],\n",
       "        [-42.66422 ],\n",
       "        [-44.350193],\n",
       "        [-46.572273],\n",
       "        [-46.711983],\n",
       "        [-47.033047],\n",
       "        [-43.706184],\n",
       "        [-41.380962],\n",
       "        [-39.64044 ],\n",
       "        [-39.673027],\n",
       "        [-38.481247],\n",
       "        [-35.27499 ],\n",
       "        [-33.473335],\n",
       "        [-30.640095],\n",
       "        [-27.292173],\n",
       "        [-25.911583],\n",
       "        [-29.036861],\n",
       "        [-31.153198],\n",
       "        [-31.158714],\n",
       "        [-31.064054],\n",
       "        [-30.70145 ],\n",
       "        [-30.40752 ],\n",
       "        [-28.57374 ],\n",
       "        [-28.460463],\n",
       "        [-28.00192 ],\n",
       "        [-27.993671],\n",
       "        [-27.378845],\n",
       "        [-27.642721],\n",
       "        [-26.215237],\n",
       "        [-25.36697 ],\n",
       "        [-25.418062],\n",
       "        [-25.275574],\n",
       "        [-26.5001  ],\n",
       "        [-27.48665 ],\n",
       "        [-27.19502 ],\n",
       "        [-26.805176],\n",
       "        [-27.848095],\n",
       "        [-27.056398],\n",
       "        [-27.245352],\n",
       "        [-26.008877],\n",
       "        [-26.830427],\n",
       "        [-27.589375],\n",
       "        [-27.993713],\n",
       "        [-27.400267],\n",
       "        [-26.26816 ],\n",
       "        [-26.524416],\n",
       "        [-26.828768],\n",
       "        [-27.791288],\n",
       "        [-26.588655],\n",
       "        [-24.264626],\n",
       "        [-24.056309],\n",
       "        [-25.561209],\n",
       "        [-27.550417],\n",
       "        [-28.925457],\n",
       "        [-30.620329],\n",
       "        [-30.47878 ],\n",
       "        [-31.374676],\n",
       "        [-34.202213],\n",
       "        [-31.369076],\n",
       "        [-31.415691],\n",
       "        [-33.539375],\n",
       "        [-32.70652 ],\n",
       "        [-35.715107],\n",
       "        [-37.386723],\n",
       "        [-38.45715 ],\n",
       "        [-38.87512 ]]], dtype=float32)"
      ]
     },
     "execution_count": 11,
     "metadata": {},
     "output_type": "execute_result"
    }
   ],
   "source": [
    "# Take data into Numpy array and add another dimension\n",
    "twodim= np.expand_dims(livedf2, axis=2)\n",
    "twodim"
   ]
  },
  {
   "cell_type": "code",
   "execution_count": 12,
   "id": "f8c25216",
   "metadata": {},
   "outputs": [],
   "source": [
    "# Load in the pretrained H5 model called \"Emotion_Voice_Detection_Model\", the one we downloaded from \"https://github.com/MITESHPUTHRANNEU/Speech-Emotion-Analyzer\"\n",
    "import tensorflow as tf\n",
    "loaded_model = tf.keras.models.load_model('Emotion_Voice_Detection_Model.h5')"
   ]
  },
  {
   "cell_type": "code",
   "execution_count": 13,
   "id": "9a3301be",
   "metadata": {},
   "outputs": [
    {
     "name": "stdout",
     "output_type": "stream",
     "text": [
      "1/1 [==============================] - 1s 713ms/step\n"
     ]
    }
   ],
   "source": [
    "# Let the H5 model make the prediction on our audio features (MFCCs)\n",
    "livepreds = loaded_model.predict(twodim, \n",
    "                         batch_size=32, \n",
    "                         verbose=1)"
   ]
  },
  {
   "cell_type": "code",
   "execution_count": 14,
   "id": "682c414c",
   "metadata": {},
   "outputs": [
    {
     "data": {
      "text/plain": [
       "array([[4.50936072e-02, 5.13787940e-03, 1.17206439e-01, 9.32353958e-02,\n",
       "        2.21120901e-02, 1.95005452e-08, 1.20846555e-04, 3.08277295e-03,\n",
       "        3.83587065e-03, 7.10175097e-01]], dtype=float32)"
      ]
     },
     "execution_count": 14,
     "metadata": {},
     "output_type": "execute_result"
    }
   ],
   "source": [
    "# Print out the percentage values of the output layer (Softmax output)\n",
    "livepreds"
   ]
  },
  {
   "cell_type": "code",
   "execution_count": 15,
   "id": "35c55666",
   "metadata": {},
   "outputs": [
    {
     "name": "stdout",
     "output_type": "stream",
     "text": [
      "[9]\n"
     ]
    }
   ],
   "source": [
    "# Print out the label predicted by our H5 model\n",
    "livepreds1=livepreds.argmax(axis=1)\n",
    "print(livepreds1)"
   ]
  },
  {
   "cell_type": "code",
   "execution_count": 16,
   "id": "94dc2486",
   "metadata": {},
   "outputs": [
    {
     "name": "stdout",
     "output_type": "stream",
     "text": [
      "[9]\n"
     ]
    }
   ],
   "source": [
    "# Make sure the label is in integer format\n",
    "liveabc = livepreds1.astype(int).flatten()\n",
    "print(liveabc)"
   ]
  },
  {
   "cell_type": "code",
   "execution_count": 17,
   "id": "dce0e6dc",
   "metadata": {},
   "outputs": [
    {
     "name": "stdout",
     "output_type": "stream",
     "text": [
      "[0 1 2 3 4 5 6 7 8 9]\n"
     ]
    }
   ],
   "source": [
    "# Define the encoding of the ten string labels into their respective integer labels (0-9), according to the order of the original H5 project (\"https://github.com/MITESHPUTHRANNEU/Speech-Emotion-Analyzer\")\n",
    "from sklearn.preprocessing import LabelEncoder\n",
    "\n",
    "lb = LabelEncoder()\n",
    "str_labels = np.array([\"female_angry\", \"female_calm\", \"female_fearful\", \"female_happy\", \"female_sad\", \"male_angry\", \"male_calm\", \"male_fearful\", \"male_happy\", \"male_sad\"])\n",
    "int_labels = lb.fit_transform(str_labels)\n",
    "print(int_labels)"
   ]
  },
  {
   "cell_type": "code",
   "execution_count": 18,
   "id": "b96d126d",
   "metadata": {},
   "outputs": [
    {
     "name": "stdout",
     "output_type": "stream",
     "text": [
      "['male_sad']\n"
     ]
    }
   ],
   "source": [
    "# Convert integer label to string label\n",
    "livepredictions = (lb.inverse_transform((liveabc)))\n",
    "print(livepredictions)"
   ]
  },
  {
   "cell_type": "code",
   "execution_count": null,
   "id": "4dbc3049",
   "metadata": {},
   "outputs": [],
   "source": [
    "#wow kind of offended that this model predicted that I am a sad man :/"
   ]
  }
 ],
 "metadata": {
  "kernelspec": {
   "display_name": "Python 3 (ipykernel)",
   "language": "python",
   "name": "python3"
  },
  "language_info": {
   "codemirror_mode": {
    "name": "ipython",
    "version": 3
   },
   "file_extension": ".py",
   "mimetype": "text/x-python",
   "name": "python",
   "nbconvert_exporter": "python",
   "pygments_lexer": "ipython3",
   "version": "3.8.6"
  }
 },
 "nbformat": 4,
 "nbformat_minor": 5
}
