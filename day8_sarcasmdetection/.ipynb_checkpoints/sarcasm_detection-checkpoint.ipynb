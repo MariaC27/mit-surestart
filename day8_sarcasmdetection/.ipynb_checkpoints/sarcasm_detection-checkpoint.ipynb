{
 "cells": [
  {
   "cell_type": "code",
   "execution_count": 7,
   "id": "3ae7fbb3",
   "metadata": {},
   "outputs": [],
   "source": [
    "import pandas as pandas\n",
    "#load and view sample data\n",
    "pandas.set_option('display.max_colwidth', None)\n",
    "sarcasm_data = pandas.read_json('Sarcasm_Headlines_Dataset.json', lines=True)"
   ]
  },
  {
   "cell_type": "code",
   "execution_count": 8,
   "id": "ca1f9a78",
   "metadata": {},
   "outputs": [
    {
     "data": {
      "text/html": [
       "<div>\n",
       "<style scoped>\n",
       "    .dataframe tbody tr th:only-of-type {\n",
       "        vertical-align: middle;\n",
       "    }\n",
       "\n",
       "    .dataframe tbody tr th {\n",
       "        vertical-align: top;\n",
       "    }\n",
       "\n",
       "    .dataframe thead th {\n",
       "        text-align: right;\n",
       "    }\n",
       "</style>\n",
       "<table border=\"1\" class=\"dataframe\">\n",
       "  <thead>\n",
       "    <tr style=\"text-align: right;\">\n",
       "      <th></th>\n",
       "      <th>article_link</th>\n",
       "      <th>headline</th>\n",
       "      <th>is_sarcastic</th>\n",
       "      <th>source</th>\n",
       "    </tr>\n",
       "  </thead>\n",
       "  <tbody>\n",
       "    <tr>\n",
       "      <th>0</th>\n",
       "      <td>https://www.huffingtonpost.com/entry/versace-black-code_us_5861fbefe4b0de3a08f600d5</td>\n",
       "      <td>former versace store clerk sues over secret 'black code' for minority shoppers</td>\n",
       "      <td>0</td>\n",
       "      <td>huffingtonpost</td>\n",
       "    </tr>\n",
       "    <tr>\n",
       "      <th>1</th>\n",
       "      <td>https://www.huffingtonpost.com/entry/roseanne-revival-review_us_5ab3a497e4b054d118e04365</td>\n",
       "      <td>the 'roseanne' revival catches up to our thorny political mood, for better and worse</td>\n",
       "      <td>0</td>\n",
       "      <td>huffingtonpost</td>\n",
       "    </tr>\n",
       "    <tr>\n",
       "      <th>2</th>\n",
       "      <td>https://local.theonion.com/mom-starting-to-fear-son-s-web-series-closest-thing-she-1819576697</td>\n",
       "      <td>mom starting to fear son's web series closest thing she will have to grandchild</td>\n",
       "      <td>1</td>\n",
       "      <td>theonion</td>\n",
       "    </tr>\n",
       "    <tr>\n",
       "      <th>3</th>\n",
       "      <td>https://politics.theonion.com/boehner-just-wants-wife-to-listen-not-come-up-with-alt-1819574302</td>\n",
       "      <td>boehner just wants wife to listen, not come up with alternative debt-reduction ideas</td>\n",
       "      <td>1</td>\n",
       "      <td>theonion</td>\n",
       "    </tr>\n",
       "    <tr>\n",
       "      <th>4</th>\n",
       "      <td>https://www.huffingtonpost.com/entry/jk-rowling-wishes-snape-happy-birthday_us_569117c4e4b0cad15e64fdcb</td>\n",
       "      <td>j.k. rowling wishes snape happy birthday in the most magical way</td>\n",
       "      <td>0</td>\n",
       "      <td>huffingtonpost</td>\n",
       "    </tr>\n",
       "  </tbody>\n",
       "</table>\n",
       "</div>"
      ],
      "text/plain": [
       "                                                                                              article_link  \\\n",
       "0                      https://www.huffingtonpost.com/entry/versace-black-code_us_5861fbefe4b0de3a08f600d5   \n",
       "1                 https://www.huffingtonpost.com/entry/roseanne-revival-review_us_5ab3a497e4b054d118e04365   \n",
       "2            https://local.theonion.com/mom-starting-to-fear-son-s-web-series-closest-thing-she-1819576697   \n",
       "3          https://politics.theonion.com/boehner-just-wants-wife-to-listen-not-come-up-with-alt-1819574302   \n",
       "4  https://www.huffingtonpost.com/entry/jk-rowling-wishes-snape-happy-birthday_us_569117c4e4b0cad15e64fdcb   \n",
       "\n",
       "                                                                               headline  \\\n",
       "0        former versace store clerk sues over secret 'black code' for minority shoppers   \n",
       "1  the 'roseanne' revival catches up to our thorny political mood, for better and worse   \n",
       "2       mom starting to fear son's web series closest thing she will have to grandchild   \n",
       "3  boehner just wants wife to listen, not come up with alternative debt-reduction ideas   \n",
       "4                      j.k. rowling wishes snape happy birthday in the most magical way   \n",
       "\n",
       "   is_sarcastic          source  \n",
       "0             0  huffingtonpost  \n",
       "1             0  huffingtonpost  \n",
       "2             1        theonion  \n",
       "3             1        theonion  \n",
       "4             0  huffingtonpost  "
      ]
     },
     "execution_count": 8,
     "metadata": {},
     "output_type": "execute_result"
    }
   ],
   "source": [
    "import re\n",
    "#load and view sample data\n",
    "sarcasm_data['source'] = sarcasm_data['article_link'].apply(lambda x: re.findall(r'\\w+', x)[2])\n",
    "sarcasm_data.head()"
   ]
  },
  {
   "cell_type": "code",
   "execution_count": 9,
   "id": "e928bef4",
   "metadata": {},
   "outputs": [],
   "source": [
    "#pre-processing in preparation for making the model\n",
    "from sklearn.preprocessing import LabelEncoder\n",
    "X=sarcasm_data.headline\n",
    "Y=sarcasm_data.is_sarcastic\n",
    "le=LabelEncoder()\n",
    "Y=le.fit_transform(Y)\n",
    "Y=Y.reshape(-1, 1)"
   ]
  },
  {
   "cell_type": "code",
   "execution_count": 10,
   "id": "0093b075",
   "metadata": {},
   "outputs": [],
   "source": [
    "#split into training and test data\n",
    "from sklearn.model_selection import train_test_split\n",
    "X_train, X_test, Y_train, Y_test = train_test_split(X, Y, test_size=0.2)"
   ]
  },
  {
   "cell_type": "code",
   "execution_count": 11,
   "id": "18f6d2d2",
   "metadata": {},
   "outputs": [],
   "source": [
    "#processing data for model - tokenization, padding\n",
    "import tensorflow as tf\n",
    "from tensorflow.keras.preprocessing.text import Tokenizer\n",
    "from tensorflow.keras.preprocessing import sequence\n",
    "max_words=1000\n",
    "max_len=150\n",
    "tok=Tokenizer(num_words=max_words)\n",
    "tok.fit_on_texts(X_train)\n",
    "sequences = tok.texts_to_sequences(X_train)\n",
    "sequences_matrix = sequence.pad_sequences(sequences, maxlen=max_len)\n"
   ]
  },
  {
   "cell_type": "code",
   "execution_count": 13,
   "id": "8224794d",
   "metadata": {},
   "outputs": [],
   "source": [
    "# defining the neural network structure for the model\n",
    "from tensorflow.keras.layers import LSTM, Activation, Dense, Dropout, Input, Embedding\n",
    "from tensorflow.keras.optimizers import RMSprop\n",
    "from tensorflow.keras.models import Model\n",
    "\n",
    "# function that actually makes and returns the model\n",
    "def RNN():\n",
    "    inputs = Input(name='inputs',shape=[max_len])\n",
    "    layer = Embedding(max_words,50,input_length=max_len)(inputs)\n",
    "    layer = LSTM(64)(layer)\n",
    "    layer = Dense(256,name='FC1')(layer)\n",
    "    layer = Activation('relu')(layer)\n",
    "    layer = Dropout(0.2)(layer)\n",
    "    layer = Dense(1,name='out_layer')(layer)\n",
    "    layer = Activation('sigmoid')(layer)\n",
    "    model = Model(inputs=inputs,outputs=layer)\n",
    "    return model"
   ]
  },
  {
   "cell_type": "code",
   "execution_count": 14,
   "id": "11d2629d",
   "metadata": {},
   "outputs": [
    {
     "name": "stdout",
     "output_type": "stream",
     "text": [
      "Model: \"model\"\n",
      "_________________________________________________________________\n",
      "Layer (type)                 Output Shape              Param #   \n",
      "=================================================================\n",
      "inputs (InputLayer)          [(None, 150)]             0         \n",
      "_________________________________________________________________\n",
      "embedding (Embedding)        (None, 150, 50)           50000     \n",
      "_________________________________________________________________\n",
      "lstm (LSTM)                  (None, 64)                29440     \n",
      "_________________________________________________________________\n",
      "FC1 (Dense)                  (None, 256)               16640     \n",
      "_________________________________________________________________\n",
      "activation (Activation)      (None, 256)               0         \n",
      "_________________________________________________________________\n",
      "dropout (Dropout)            (None, 256)               0         \n",
      "_________________________________________________________________\n",
      "out_layer (Dense)            (None, 1)                 257       \n",
      "_________________________________________________________________\n",
      "activation_1 (Activation)    (None, 1)                 0         \n",
      "=================================================================\n",
      "Total params: 96,337\n",
      "Trainable params: 96,337\n",
      "Non-trainable params: 0\n",
      "_________________________________________________________________\n"
     ]
    }
   ],
   "source": [
    "model = RNN()\n",
    "model.summary()\n",
    "model.compile(loss='binary_crossentropy',optimizer=RMSprop(),metrics=['accuracy'])"
   ]
  },
  {
   "cell_type": "code",
   "execution_count": 15,
   "id": "f0da21ef",
   "metadata": {},
   "outputs": [
    {
     "name": "stdout",
     "output_type": "stream",
     "text": [
      "Epoch 1/5\n",
      "193/193 [==============================] - 54s 257ms/step - loss: 0.4778 - accuracy: 0.7600 - val_loss: 0.4078 - val_accuracy: 0.8170\n"
     ]
    },
    {
     "data": {
      "text/plain": [
       "<tensorflow.python.keras.callbacks.History at 0x1948b7b0670>"
      ]
     },
     "execution_count": 15,
     "metadata": {},
     "output_type": "execute_result"
    }
   ],
   "source": [
    "#fit model on training data\n",
    "from tensorflow.keras.callbacks import EarlyStopping\n",
    "model.fit(sequences_matrix,Y_train,batch_size=100,epochs=5,\n",
    "          validation_split=0.1,callbacks=[EarlyStopping(monitor='val_loss',min_delta=0.0001)])"
   ]
  },
  {
   "cell_type": "code",
   "execution_count": 16,
   "id": "bb8f7d40",
   "metadata": {},
   "outputs": [],
   "source": [
    "# testing the model\n",
    "test_sequences = tok.texts_to_sequences(X_test)\n",
    "test_sequences_matrix = sequence.pad_sequences(test_sequences,maxlen=max_len)"
   ]
  },
  {
   "cell_type": "code",
   "execution_count": 17,
   "id": "0576b582",
   "metadata": {},
   "outputs": [
    {
     "name": "stdout",
     "output_type": "stream",
     "text": [
      "167/167 [==============================] - 9s 56ms/step - loss: 0.4015 - accuracy: 0.8160\n",
      "Test set\n",
      "  Loss: 0.402\n",
      "  Accuracy: 0.816\n"
     ]
    }
   ],
   "source": [
    "# model accuracy\n",
    "accr = model.evaluate(test_sequences_matrix,Y_test)\n",
    "print('Test set\\n  Loss: {:0.3f}\\n  Accuracy: {:0.3f}'.format(accr[0],accr[1]))"
   ]
  },
  {
   "cell_type": "code",
   "execution_count": null,
   "id": "20b27e07",
   "metadata": {},
   "outputs": [],
   "source": []
  }
 ],
 "metadata": {
  "kernelspec": {
   "display_name": "Python 3.6 (tensorflow)",
   "language": "python",
   "name": "tensorflow"
  },
  "language_info": {
   "codemirror_mode": {
    "name": "ipython",
    "version": 3
   },
   "file_extension": ".py",
   "mimetype": "text/x-python",
   "name": "python",
   "nbconvert_exporter": "python",
   "pygments_lexer": "ipython3",
   "version": "3.8.6"
  }
 },
 "nbformat": 4,
 "nbformat_minor": 5
}
